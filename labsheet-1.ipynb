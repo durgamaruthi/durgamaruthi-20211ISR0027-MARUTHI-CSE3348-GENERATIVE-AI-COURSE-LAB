{
 "cells": [
  {
   "cell_type": "markdown",
   "id": "27db3f4f-38c1-4fae-a350-6ec41f722950",
   "metadata": {},
   "source": [
    "# # labsheet -4\n",
    "# NAME : P.DURGA MARUTHI VARA PRASAD\n",
    "# ROLL.NO : 20211ISR0027\n",
    "# SECTION:7-ISR-01"
   ]
  },
  {
   "cell_type": "markdown",
   "id": "a9184229-d56c-4a4b-9b35-0b50a066bfb7",
   "metadata": {},
   "source": [
    "# **Ex1: Convert ungrammatical statements into standard English**"
   ]
  },
  {
   "cell_type": "code",
   "execution_count": 8,
   "id": "300e410e-3591-432e-8a2f-90d0a25d66b6",
   "metadata": {},
   "outputs": [
    {
     "name": "stdout",
     "output_type": "stream",
     "text": [
      "She did not go to the market.\n"
     ]
    }
   ],
   "source": [
    "from openai import OpenAI\n",
    "\n",
    "client = OpenAI()\n",
    "\n",
    "response = client.chat.completions.create(\n",
    "    model=\"gpt-4o\",\n",
    "    messages=[\n",
    "        {\n",
    "            \"role\": \"system\",\n",
    "            \"content\": \"You will be provided with statements, and your task is to convert them to standard English.\"\n",
    "        },\n",
    "        {\n",
    "            \"role\": \"user\",\n",
    "            \"content\": \"She no went to the market.\"\n",
    "        }\n",
    "    ],\n",
    "    temperature=0.7,\n",
    "    max_tokens=64,\n",
    "    top_p=1\n",
    ")\n",
    "\n",
    "# Correct way to access the content of the response\n",
    "response_content = response.choices[0].message.content\n",
    "print(response_content)"
   ]
  }
 ],
 "metadata": {
  "kernelspec": {
   "display_name": "Python 3 (ipykernel)",
   "language": "python",
   "name": "python3"
  },
  "language_info": {
   "codemirror_mode": {
    "name": "ipython",
    "version": 3
   },
   "file_extension": ".py",
   "mimetype": "text/x-python",
   "name": "python",
   "nbconvert_exporter": "python",
   "pygments_lexer": "ipython3",
   "version": "3.12.4"
  }
 },
 "nbformat": 4,
 "nbformat_minor": 5
}
